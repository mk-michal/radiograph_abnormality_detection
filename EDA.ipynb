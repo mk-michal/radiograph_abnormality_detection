{
 "cells": [
  {
   "cell_type": "markdown",
   "metadata": {},
   "source": [
    "# Explanatory data Analysis"
   ]
  },
  {
   "cell_type": "code",
   "execution_count": null,
   "metadata": {},
   "outputs": [],
   "source": [
    "import pandas as pd\n",
    "import matplotlib.pyplot as plt\n",
    "import numpy as np\n",
    "import pydicom\n",
    "\n",
    "plt.rcParams['figure.figsize'] = [12, 8]\n",
    "plt.rcParams['figure.dpi'] = 100 # 200 e.g. is really fine, but slower"
   ]
  },
  {
   "cell_type": "markdown",
   "metadata": {},
   "source": [
    "### Train data description"
   ]
  },
  {
   "cell_type": "code",
   "execution_count": null,
   "metadata": {},
   "outputs": [],
   "source": [
    "train_data_desc = pd.read_csv('data/chest_xray/train.csv')"
   ]
  },
  {
   "cell_type": "code",
   "execution_count": null,
   "metadata": {},
   "outputs": [],
   "source": [
    "class_names = {\n",
    "    0:'Aortic enlargement',\n",
    "    1:'Atelectasis',\n",
    "    2: 'Calcification',\n",
    "    3: 'Cardiomegaly',\n",
    "    4 : 'Consolidation',\n",
    "    5 : 'ILD',\n",
    "    6 : 'Infiltration',\n",
    "    7 : 'Lung Opacity',\n",
    "    8 : 'Nodule/Mass',\n",
    "    9 : 'Other lesion',\n",
    "    10 : 'Pleural effusion',\n",
    "    11 : 'Pleural thickening',\n",
    "    12 : 'Pneumothorax',\n",
    "    13 : 'Pulmonary fibrosis'   \n",
    "}\n",
    "\n",
    "\n",
    "train_data_desc"
   ]
  },
  {
   "cell_type": "code",
   "execution_count": null,
   "metadata": {},
   "outputs": [],
   "source": [
    "train_data_desc.groupby(['image_id', 'rad_id'])['class_name'].nunique()"
   ]
  },
  {
   "cell_type": "code",
   "execution_count": null,
   "metadata": {},
   "outputs": [],
   "source": [
    "train_data_desc.class_name.unique()"
   ]
  },
  {
   "cell_type": "code",
   "execution_count": null,
   "metadata": {},
   "outputs": [],
   "source": [
    "train_data_path = 'data/chest_xray/train/'\n",
    "available_files = [f.split('.')[0] for f in os.listdir(train_data_path) if f.endswith('dicom')]"
   ]
  },
  {
   "cell_type": "code",
   "execution_count": null,
   "metadata": {},
   "outputs": [],
   "source": [
    "file = available_files[2]\n",
    "\n",
    "dcom_image = pydicom.dcmread(os.path.join(train_data_path, file + '.dicom'))\n",
    "train_data_desc.loc[train_data_desc.image_id == file]\n"
   ]
  },
  {
   "cell_type": "code",
   "execution_count": null,
   "metadata": {},
   "outputs": [],
   "source": [
    "dcom_image.convert_pixel_data()"
   ]
  },
  {
   "cell_type": "code",
   "execution_count": null,
   "metadata": {},
   "outputs": [],
   "source": [
    "\n",
    "plt.imshow(dcom_image.pixel_array, cmap=plt.cm.bone)"
   ]
  },
  {
   "cell_type": "code",
   "execution_count": null,
   "metadata": {},
   "outputs": [],
   "source": [
    "train_data_desc.groupby(['image_id']).nunique()"
   ]
  },
  {
   "cell_type": "code",
   "execution_count": null,
   "metadata": {},
   "outputs": [],
   "source": [
    "train_data_desc.loc[train_data_desc.image_id == file]"
   ]
  },
  {
   "cell_type": "code",
   "execution_count": null,
   "metadata": {},
   "outputs": [],
   "source": [
    "import matplotlib.pyplot as plt\n",
    "import matplotlib.patches as patches\n",
    "import numpy as np\n",
    "\n",
    "file = available_files[2]\n",
    "dcom_image = pydicom.dcmread(os.path.join(train_data_path, file + '.dicom'))\n",
    "display(train_data_desc.loc[train_data_desc.image_id == file])\n",
    "\n",
    "# Create figure and axes\n",
    "fig,ax = plt.subplots(1)\n",
    "\n",
    "# Display the image\n",
    "ax.imshow(dcom_image.pixel_array, cmap=plt.cm.bone)\n",
    "\n",
    "# Create a Rectangle patch\n",
    "for index, row in train_data_desc.loc[train_data_desc.image_id == file].iterrows():\n",
    "    \n",
    "    rect = patches.Rectangle(\n",
    "        (row.x_min,row.y_min),\n",
    "        row.x_max - row.x_min,\n",
    "        row.y_max - row.y_min,\n",
    "        linewidth=1,\n",
    "        edgecolor='r',\n",
    "        facecolor='none'\n",
    "    )\n",
    "    ax.add_patch(rect)\n",
    "#     plt.text((50,100), 300, 40)\n",
    "\n",
    "plt.show()"
   ]
  }
 ],
 "metadata": {
  "kernelspec": {
   "display_name": "Python 3",
   "language": "python",
   "name": "python3"
  },
  "language_info": {
   "codemirror_mode": {
    "name": "ipython",
    "version": 3
   },
   "file_extension": ".py",
   "mimetype": "text/x-python",
   "name": "python",
   "nbconvert_exporter": "python",
   "pygments_lexer": "ipython3",
   "version": "3.8.5"
  }
 },
 "nbformat": 4,
 "nbformat_minor": 4
}
