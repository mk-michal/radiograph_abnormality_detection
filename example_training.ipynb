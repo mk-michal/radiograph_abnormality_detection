{
 "cells": [
  {
   "cell_type": "code",
   "execution_count": null,
   "metadata": {},
   "outputs": [],
   "source": [
    "# %% [code]\n",
    "import sys\n",
    "import numpy as np\n",
    "import pandas as pd\n",
    "sys.path.append('/kaggle/input/xray-kaggle/')\n",
    "!pip install pycocotools\n",
    "\n",
    "# %% [code]\n",
    "import logging\n",
    "logging.basicConfig(level=logging.INFO)\n",
    "\n",
    "# %% [code]\n",
    "p = logging.getLogger(__name__)\n",
    "p.warning('kurva')\n"
   ]
  },
  {
   "cell_type": "code",
   "execution_count": null,
   "metadata": {},
   "outputs": [],
   "source": [
    "! PATH=.:$PATH PYTHONPATH=. python xray/train.py --n-workers 4 \\\n",
    "    --database-path data/chest_xray/ \\\n",
    "    --data-path data/chest_xray/ \\\n",
    "    --save-path data/xray-kaggle/ \\\n",
    "    -lr 0.0005 \\\n",
    "    --device cpu \\\n",
    "    --momentum 0.90 \\\n",
    "    --n_epochs 6 \\\n",
    "    --batch-size 8 \\\n",
    "    --log-step 20 \\\n",
    "    --step-size 7 \\\n",
    "    --gamma 0.2 \\\n",
    "    --last-epoch -1"
   ]
  }
 ],
 "metadata": {
  "kernelspec": {
   "display_name": "Python 3",
   "language": "python",
   "name": "python3"
  },
  "language_info": {
   "codemirror_mode": {
    "name": "ipython",
    "version": 3
   },
   "file_extension": ".py",
   "mimetype": "text/x-python",
   "name": "python",
   "nbconvert_exporter": "python",
   "pygments_lexer": "ipython3",
   "version": "3.8.5"
  }
 },
 "nbformat": 4,
 "nbformat_minor": 4
}
